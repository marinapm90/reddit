{
 "cells": [
  {
   "cell_type": "code",
   "execution_count": 12,
   "metadata": {},
   "outputs": [],
   "source": [
    "from functools import lru_cache\n",
    "\n",
    "import requests\n",
    "import pandas as pd\n",
    "from datetime import datetime"
   ]
  },
  {
   "cell_type": "code",
   "execution_count": 7,
   "metadata": {},
   "outputs": [],
   "source": [
    "headers = {'User-Agent': \"Mozilla/5.0 (Macintosh; Intel Mac OS X 10.12; rv:66.0) Gecko/20100101 Firefox/66.0\"}\n",
    "REDDIT_ROOT_URL = \"https://reddit.com\"\n",
    "\n",
    "\n",
    "def add_json_sufix(url):\n",
    "    url = REDDIT_ROOT_URL + url if not url.startswith(\"http\") else url\n",
    "    return url if url.endswith('.json') else url + '.json'\n",
    "\n",
    "\n",
    "def get_with_headers(url):\n",
    "    return requests.get(url, headers=headers)\n",
    "\n",
    "\n",
    "def get_subreddit_posts(subreddit_url):\n",
    "    print(f\"Getting posts from {subreddit_url}...\")\n",
    "    subreddit_url = add_json_sufix(subreddit_url)\n",
    "    response = get_with_headers(subreddit_url)\n",
    "    raw_posts = response.json()['data']['children']\n",
    "\n",
    "    posts = []\n",
    "    for raw_post in raw_posts:\n",
    "        post = {}\n",
    "        raw_post = raw_post['data']\n",
    "        post['title'] = raw_post['title']\n",
    "        post['score'] = raw_post['score']\n",
    "        post['url'] = REDDIT_ROOT_URL + raw_post['permalink']\n",
    "        post['nsfw'] = raw_post['over_18']\n",
    "\n",
    "        posts.append(post)\n",
    "\n",
    "    return posts\n",
    "\n",
    "\n",
    "def get_comments_from_post(post_url):\n",
    "    post_url = add_json_sufix(post_url)\n",
    "\n",
    "    print(f\"Getting comments from {post_url}...\")\n",
    "    response = get_with_headers(post_url)\n",
    "    raw_comments = response.json()[1]['data']['children']\n",
    "\n",
    "    comments = []\n",
    "\n",
    "    for raw_comment in raw_comments:\n",
    "        comment = {}\n",
    "        try:\n",
    "            raw_comment = raw_comment['data']\n",
    "            comment['score'] = raw_comment.get('score', 0)\n",
    "            comment['content'] = raw_comment['body']\n",
    "            comment['created_utc'] = raw_comment['created_utc']\n",
    "            comments.append(comment)\n",
    "        except:\n",
    "            pass\n",
    "\n",
    "    return comments\n",
    "\n",
    "\n",
    "@lru_cache(maxsize=32)\n",
    "def get_all_comments_from_subreddit(subreddit_url):\n",
    "    posts = get_subreddit_posts(subreddit_url)\n",
    "    all_comments = []\n",
    "    for post in posts:\n",
    "        all_comments += get_comments_from_post(post['url'])\n",
    "    return all_comments"
   ]
  },
  {
   "cell_type": "code",
   "execution_count": 8,
   "metadata": {},
   "outputs": [
    {
     "name": "stdout",
     "output_type": "stream",
     "text": [
      "Getting posts from /r/programming...\n",
      "Getting comments from https://reddit.com/r/programming/comments/ery1da/natural_language_processing_for_web_developers/.json...\n",
      "Getting comments from https://reddit.com/r/programming/comments/erqqwn/net_everywhere_apparently_also_means_windows_311/.json...\n",
      "Getting comments from https://reddit.com/r/programming/comments/ersxx5/the_edge_of_emulation/.json...\n",
      "Getting comments from https://reddit.com/r/programming/comments/erwa65/what_is_rust_and_why_is_it_so_popular/.json...\n",
      "Getting comments from https://reddit.com/r/programming/comments/erzcem/from_rwebdev_awesome_article_on_good_programming/.json...\n",
      "Getting comments from https://reddit.com/r/programming/comments/erfd6h/the_2038_problem_is_already_affecting_some_systems/.json...\n",
      "Getting comments from https://reddit.com/r/programming/comments/erxovb/seq_a_language_for_bioinformatics/.json...\n",
      "Getting comments from https://reddit.com/r/programming/comments/err5tj/the_hunt_for_the_fastest_zero/.json...\n",
      "Getting comments from https://reddit.com/r/programming/comments/erwy98/database_architecture_using_one_database_schema/.json...\n",
      "Getting comments from https://reddit.com/r/programming/comments/ersa20/php_in_2020/.json...\n",
      "Getting comments from https://reddit.com/r/programming/comments/es01gq/the_biggest_aggregator_of_it_conferences_with_a/.json...\n",
      "Getting comments from https://reddit.com/r/programming/comments/erd65s/pharo_80_the_immersive_pure_object_oriented/.json...\n",
      "Getting comments from https://reddit.com/r/programming/comments/erzj9p/space_shooter_game_that_runs_in_your_terminal/.json...\n",
      "Getting comments from https://reddit.com/r/programming/comments/erggs6/is_a_round_minecraft_world_possible/.json...\n",
      "Getting comments from https://reddit.com/r/programming/comments/erxrq1/introduction_to_realitykit_on_ios_entities/.json...\n",
      "Getting comments from https://reddit.com/r/programming/comments/errstb/in_hopes_of_a_better_understanding_of_how/.json...\n",
      "Getting comments from https://reddit.com/r/programming/comments/erwxrz/handling_webhooks_with_aws_using_eventbridge_sam/.json...\n",
      "Getting comments from https://reddit.com/r/programming/comments/es13ue/whenever_i_get_a_ticket_through_an_agent_and_they/.json...\n",
      "Getting comments from https://reddit.com/r/programming/comments/es0jz9/why_software_needs_an_architecture_testability/.json...\n",
      "Getting comments from https://reddit.com/r/programming/comments/es0cae/is_ionic_framework_currently_good/.json...\n",
      "Getting comments from https://reddit.com/r/programming/comments/es03oo/systemtextjson_rest_client/.json...\n",
      "Getting comments from https://reddit.com/r/programming/comments/erzyw4/is_serverless_the_end_of_kubernetes_not_yet/.json...\n",
      "Getting comments from https://reddit.com/r/programming/comments/erzyv3/git_beginner_cheatsheet_with_diagrams_and/.json...\n",
      "Getting comments from https://reddit.com/r/programming/comments/erzjbe/prototype_java_in_a_browser_see_results_as_you/.json...\n",
      "Getting comments from https://reddit.com/r/programming/comments/erukme/python_27_to_3x_migration_guide_how_to_port_from/.json...\n"
     ]
    }
   ],
   "source": [
    "subreddit_url = \"/r/programming\" # https://reddit.com/r/askreddit\n",
    "comments = get_all_comments_from_subreddit(subreddit_url)"
   ]
  },
  {
   "cell_type": "code",
   "execution_count": 9,
   "metadata": {},
   "outputs": [
    {
     "data": {
      "text/html": [
       "<div>\n",
       "<style scoped>\n",
       "    .dataframe tbody tr th:only-of-type {\n",
       "        vertical-align: middle;\n",
       "    }\n",
       "\n",
       "    .dataframe tbody tr th {\n",
       "        vertical-align: top;\n",
       "    }\n",
       "\n",
       "    .dataframe thead th {\n",
       "        text-align: right;\n",
       "    }\n",
       "</style>\n",
       "<table border=\"1\" class=\"dataframe\">\n",
       "  <thead>\n",
       "    <tr style=\"text-align: right;\">\n",
       "      <th></th>\n",
       "      <th>score</th>\n",
       "      <th>content</th>\n",
       "      <th>created_utc</th>\n",
       "    </tr>\n",
       "  </thead>\n",
       "  <tbody>\n",
       "    <tr>\n",
       "      <td>0</td>\n",
       "      <td>51</td>\n",
       "      <td>This doesn't explain how to actually expose th...</td>\n",
       "      <td>1.579636e+09</td>\n",
       "    </tr>\n",
       "    <tr>\n",
       "      <td>1</td>\n",
       "      <td>2</td>\n",
       "      <td>[First example, autocomplete](https://transfor...</td>\n",
       "      <td>1.579639e+09</td>\n",
       "    </tr>\n",
       "    <tr>\n",
       "      <td>2</td>\n",
       "      <td>110</td>\n",
       "      <td>&amp;gt; Michal learned that the object files that...</td>\n",
       "      <td>1.579599e+09</td>\n",
       "    </tr>\n",
       "    <tr>\n",
       "      <td>3</td>\n",
       "      <td>288</td>\n",
       "      <td>Oh, now THIS is the kind of dedicated pointles...</td>\n",
       "      <td>1.579592e+09</td>\n",
       "    </tr>\n",
       "    <tr>\n",
       "      <td>4</td>\n",
       "      <td>115</td>\n",
       "      <td>&amp;gt; He also removes the need for the garbage ...</td>\n",
       "      <td>1.579616e+09</td>\n",
       "    </tr>\n",
       "  </tbody>\n",
       "</table>\n",
       "</div>"
      ],
      "text/plain": [
       "   score                                            content   created_utc\n",
       "0     51  This doesn't explain how to actually expose th...  1.579636e+09\n",
       "1      2  [First example, autocomplete](https://transfor...  1.579639e+09\n",
       "2    110  &gt; Michal learned that the object files that...  1.579599e+09\n",
       "3    288  Oh, now THIS is the kind of dedicated pointles...  1.579592e+09\n",
       "4    115  &gt; He also removes the need for the garbage ...  1.579616e+09"
      ]
     },
     "execution_count": 9,
     "metadata": {},
     "output_type": "execute_result"
    }
   ],
   "source": [
    "df = pd.DataFrame(comments)\n",
    "df.head()"
   ]
  },
  {
   "cell_type": "code",
   "execution_count": 10,
   "metadata": {},
   "outputs": [
    {
     "data": {
      "text/plain": [
       "(124, 3)"
      ]
     },
     "execution_count": 10,
     "metadata": {},
     "output_type": "execute_result"
    }
   ],
   "source": [
    "df.shape"
   ]
  },
  {
   "cell_type": "code",
   "execution_count": 13,
   "metadata": {},
   "outputs": [],
   "source": [
    "df[\"created_utc\"] = df[\"created_utc\"].apply(datetime.fromtimestamp)"
   ]
  },
  {
   "cell_type": "code",
   "execution_count": 14,
   "metadata": {},
   "outputs": [
    {
     "data": {
      "text/html": [
       "<div>\n",
       "<style scoped>\n",
       "    .dataframe tbody tr th:only-of-type {\n",
       "        vertical-align: middle;\n",
       "    }\n",
       "\n",
       "    .dataframe tbody tr th {\n",
       "        vertical-align: top;\n",
       "    }\n",
       "\n",
       "    .dataframe thead th {\n",
       "        text-align: right;\n",
       "    }\n",
       "</style>\n",
       "<table border=\"1\" class=\"dataframe\">\n",
       "  <thead>\n",
       "    <tr style=\"text-align: right;\">\n",
       "      <th></th>\n",
       "      <th>score</th>\n",
       "      <th>content</th>\n",
       "      <th>created_utc</th>\n",
       "    </tr>\n",
       "  </thead>\n",
       "  <tbody>\n",
       "    <tr>\n",
       "      <td>0</td>\n",
       "      <td>51</td>\n",
       "      <td>This doesn't explain how to actually expose th...</td>\n",
       "      <td>2020-01-21 20:45:42</td>\n",
       "    </tr>\n",
       "    <tr>\n",
       "      <td>1</td>\n",
       "      <td>2</td>\n",
       "      <td>[First example, autocomplete](https://transfor...</td>\n",
       "      <td>2020-01-21 21:36:20</td>\n",
       "    </tr>\n",
       "    <tr>\n",
       "      <td>2</td>\n",
       "      <td>110</td>\n",
       "      <td>&amp;gt; Michal learned that the object files that...</td>\n",
       "      <td>2020-01-21 10:36:03</td>\n",
       "    </tr>\n",
       "    <tr>\n",
       "      <td>3</td>\n",
       "      <td>288</td>\n",
       "      <td>Oh, now THIS is the kind of dedicated pointles...</td>\n",
       "      <td>2020-01-21 08:40:10</td>\n",
       "    </tr>\n",
       "    <tr>\n",
       "      <td>4</td>\n",
       "      <td>115</td>\n",
       "      <td>&amp;gt; He also removes the need for the garbage ...</td>\n",
       "      <td>2020-01-21 15:15:15</td>\n",
       "    </tr>\n",
       "  </tbody>\n",
       "</table>\n",
       "</div>"
      ],
      "text/plain": [
       "   score                                            content  \\\n",
       "0     51  This doesn't explain how to actually expose th...   \n",
       "1      2  [First example, autocomplete](https://transfor...   \n",
       "2    110  &gt; Michal learned that the object files that...   \n",
       "3    288  Oh, now THIS is the kind of dedicated pointles...   \n",
       "4    115  &gt; He also removes the need for the garbage ...   \n",
       "\n",
       "          created_utc  \n",
       "0 2020-01-21 20:45:42  \n",
       "1 2020-01-21 21:36:20  \n",
       "2 2020-01-21 10:36:03  \n",
       "3 2020-01-21 08:40:10  \n",
       "4 2020-01-21 15:15:15  "
      ]
     },
     "execution_count": 14,
     "metadata": {},
     "output_type": "execute_result"
    }
   ],
   "source": [
    "df.head()"
   ]
  }
 ],
 "metadata": {
  "kernelspec": {
   "display_name": "Python 3",
   "language": "python",
   "name": "python3"
  },
  "language_info": {
   "codemirror_mode": {
    "name": "ipython",
    "version": 3
   },
   "file_extension": ".py",
   "mimetype": "text/x-python",
   "name": "python",
   "nbconvert_exporter": "python",
   "pygments_lexer": "ipython3",
   "version": "3.6.8"
  }
 },
 "nbformat": 4,
 "nbformat_minor": 2
}
