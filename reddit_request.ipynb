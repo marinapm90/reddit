{
 "cells": [
  {
   "cell_type": "code",
   "execution_count": 82,
   "metadata": {},
   "outputs": [],
   "source": [
    "from json import load\n",
    "from urllib.request import urlopen, Request\n",
    "\n",
    "def get_subreddit_data(sr):\n",
    "    url = 'http://www.reddit.com/r/{}.json?limit=1000'.format(sr)\n",
    "    return load(urlopen(Request(url, headers={'User-Agent': \"Mozilla/5.0 (Macintosh; Intel Mac OS X 10.12; rv:66.0) Gecko/20100101 Firefox/66.0\"})))\n",
    "\n",
    "data = get_subreddit_data('programming')\n",
    "\n",
    "with open('output.csv', 'w') as outfile:\n",
    "    for post in data['data']['children']:\n",
    "        print(post['data']['title'],post['data']['score'],file = outfile) "
   ]
  },
  {
   "cell_type": "code",
   "execution_count": 83,
   "metadata": {},
   "outputs": [
    {
     "name": "stderr",
     "output_type": "stream",
     "text": [
      "b'Skipping line 10: expected 1 fields, saw 3\\nSkipping line 12: expected 1 fields, saw 3\\nSkipping line 13: expected 1 fields, saw 2\\nSkipping line 20: expected 1 fields, saw 3\\nSkipping line 24: expected 1 fields, saw 2\\nSkipping line 33: expected 1 fields, saw 2\\nSkipping line 38: expected 1 fields, saw 4\\nSkipping line 54: expected 1 fields, saw 2\\nSkipping line 63: expected 1 fields, saw 2\\nSkipping line 69: expected 1 fields, saw 2\\nSkipping line 97: expected 1 fields, saw 2\\n'\n"
     ]
    },
    {
     "data": {
      "text/html": [
       "<div>\n",
       "<style scoped>\n",
       "    .dataframe tbody tr th:only-of-type {\n",
       "        vertical-align: middle;\n",
       "    }\n",
       "\n",
       "    .dataframe tbody tr th {\n",
       "        vertical-align: top;\n",
       "    }\n",
       "\n",
       "    .dataframe thead th {\n",
       "        text-align: right;\n",
       "    }\n",
       "</style>\n",
       "<table border=\"1\" class=\"dataframe\">\n",
       "  <thead>\n",
       "    <tr style=\"text-align: right;\">\n",
       "      <th></th>\n",
       "      <th>'Azure appears to be full': UK punters complain of capacity issues on Microsoft's cloud 995</th>\n",
       "    </tr>\n",
       "  </thead>\n",
       "  <tbody>\n",
       "    <tr>\n",
       "      <th>0</th>\n",
       "      <td>10 Most(ly dead) Influential Programming Langu...</td>\n",
       "    </tr>\n",
       "    <tr>\n",
       "      <th>1</th>\n",
       "      <td>Apple just killed Offline Web Apps while purpo...</td>\n",
       "    </tr>\n",
       "    <tr>\n",
       "      <th>2</th>\n",
       "      <td>What happens when the maintainer of a JS libra...</td>\n",
       "    </tr>\n",
       "    <tr>\n",
       "      <th>3</th>\n",
       "      <td>Machine learning is still too hard to use 14</td>\n",
       "    </tr>\n",
       "    <tr>\n",
       "      <th>4</th>\n",
       "      <td>Cloudflare: Why We Started Putting Unpopular A...</td>\n",
       "    </tr>\n",
       "    <tr>\n",
       "      <th>...</th>\n",
       "      <td>...</td>\n",
       "    </tr>\n",
       "    <tr>\n",
       "      <th>83</th>\n",
       "      <td>Build a Battle Royale in Unity C# - Tutorial f...</td>\n",
       "    </tr>\n",
       "    <tr>\n",
       "      <th>84</th>\n",
       "      <td>img2vdu - Convert images to scriptable graphic...</td>\n",
       "    </tr>\n",
       "    <tr>\n",
       "      <th>85</th>\n",
       "      <td>Accelerate Your Kotlin Multiplatform Evaluatio...</td>\n",
       "    </tr>\n",
       "    <tr>\n",
       "      <th>86</th>\n",
       "      <td>Raytracing - in Excel! 2425</td>\n",
       "    </tr>\n",
       "    <tr>\n",
       "      <th>87</th>\n",
       "      <td>Configuring a SOAP Client with Two-Way SSL and...</td>\n",
       "    </tr>\n",
       "  </tbody>\n",
       "</table>\n",
       "<p>88 rows × 1 columns</p>\n",
       "</div>"
      ],
      "text/plain": [
       "   'Azure appears to be full': UK punters complain of capacity issues on Microsoft's cloud 995\n",
       "0   10 Most(ly dead) Influential Programming Langu...                                         \n",
       "1   Apple just killed Offline Web Apps while purpo...                                         \n",
       "2   What happens when the maintainer of a JS libra...                                         \n",
       "3        Machine learning is still too hard to use 14                                         \n",
       "4   Cloudflare: Why We Started Putting Unpopular A...                                         \n",
       "..                                                ...                                         \n",
       "83  Build a Battle Royale in Unity C# - Tutorial f...                                         \n",
       "84  img2vdu - Convert images to scriptable graphic...                                         \n",
       "85  Accelerate Your Kotlin Multiplatform Evaluatio...                                         \n",
       "86                        Raytracing - in Excel! 2425                                         \n",
       "87  Configuring a SOAP Client with Two-Way SSL and...                                         \n",
       "\n",
       "[88 rows x 1 columns]"
      ]
     },
     "execution_count": 83,
     "metadata": {},
     "output_type": "execute_result"
    }
   ],
   "source": [
    "import pandas as pd\n",
    "\n",
    "reddit= pd.read_csv(\"./output.csv\", error_bad_lines=False)\n",
    "reddit"
   ]
  },
  {
   "cell_type": "code",
   "execution_count": null,
   "metadata": {},
   "outputs": [],
   "source": []
  }
 ],
 "metadata": {
  "kernelspec": {
   "display_name": "Python 3",
   "language": "python",
   "name": "python3"
  },
  "language_info": {
   "codemirror_mode": {
    "name": "ipython",
    "version": 3
   },
   "file_extension": ".py",
   "mimetype": "text/x-python",
   "name": "python",
   "nbconvert_exporter": "python",
   "pygments_lexer": "ipython3",
   "version": "3.6.8"
  }
 },
 "nbformat": 4,
 "nbformat_minor": 4
}
