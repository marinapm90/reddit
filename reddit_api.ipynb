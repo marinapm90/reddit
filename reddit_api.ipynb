{
 "cells": [
  {
   "cell_type": "code",
   "execution_count": 1,
   "metadata": {},
   "outputs": [],
   "source": [
    "from functools import lru_cache\n",
    "\n",
    "import requests\n",
    "import pandas as pd\n",
    "\n",
    "headers = {'User-Agent': \"Mozilla/5.0 (Macintosh; Intel Mac OS X 10.12; rv:66.0) Gecko/20100101 Firefox/66.0\"}\n",
    "REDDIT_ROOT_URL = \"https://reddit.com\"\n",
    "\n",
    "\n",
    "def add_json_sufix(url):\n",
    "    url = REDDIT_ROOT_URL + url if not url.startswith(\"http\") else url\n",
    "    return url if url.endswith('.json') else url + '.json'\n",
    "\n",
    "\n",
    "def get_with_headers(url):\n",
    "    return requests.get(url, headers=headers)\n",
    "\n",
    "\n",
    "def get_subreddit_posts(subreddit_url):\n",
    "    print(f\"Getting posts from {subreddit_url}...\")\n",
    "    subreddit_url = add_json_sufix(subreddit_url)\n",
    "    response = get_with_headers(subreddit_url)\n",
    "    raw_posts = response.json()['data']['children']\n",
    "\n",
    "    posts = []\n",
    "    for raw_post in raw_posts:\n",
    "        post = {}\n",
    "        raw_post = raw_post['data']\n",
    "        post['title'] = raw_post['title']\n",
    "        post['score'] = raw_post['score']\n",
    "        post['url'] = REDDIT_ROOT_URL + raw_post['permalink']\n",
    "        post['nsfw'] = raw_post['over_18']\n",
    "\n",
    "        posts.append(post)\n",
    "\n",
    "    return posts"
   ]
  },
  {
   "cell_type": "code",
   "execution_count": 2,
   "metadata": {},
   "outputs": [
    {
     "name": "stdout",
     "output_type": "stream",
     "text": [
      "Getting posts from /r/programming...\n"
     ]
    }
   ],
   "source": [
    "subreddit_url = \"/r/programming\" # https://reddit.com/r/askreddit\n",
    "posts = get_subreddit_posts(subreddit_url)"
   ]
  },
  {
   "cell_type": "code",
   "execution_count": 4,
   "metadata": {},
   "outputs": [
    {
     "data": {
      "text/html": [
       "<div>\n",
       "<style scoped>\n",
       "    .dataframe tbody tr th:only-of-type {\n",
       "        vertical-align: middle;\n",
       "    }\n",
       "\n",
       "    .dataframe tbody tr th {\n",
       "        vertical-align: top;\n",
       "    }\n",
       "\n",
       "    .dataframe thead th {\n",
       "        text-align: right;\n",
       "    }\n",
       "</style>\n",
       "<table border=\"1\" class=\"dataframe\">\n",
       "  <thead>\n",
       "    <tr style=\"text-align: right;\">\n",
       "      <th></th>\n",
       "      <th>title</th>\n",
       "      <th>score</th>\n",
       "      <th>url</th>\n",
       "      <th>nsfw</th>\n",
       "    </tr>\n",
       "  </thead>\n",
       "  <tbody>\n",
       "    <tr>\n",
       "      <td>0</td>\n",
       "      <td>Bring your monorepo down to size with Git spar...</td>\n",
       "      <td>231</td>\n",
       "      <td>https://reddit.com/r/programming/comments/eqqw...</td>\n",
       "      <td>False</td>\n",
       "    </tr>\n",
       "    <tr>\n",
       "      <td>1</td>\n",
       "      <td>No, dynamic type systems are not inherently mo...</td>\n",
       "      <td>26</td>\n",
       "      <td>https://reddit.com/r/programming/comments/eqv6...</td>\n",
       "      <td>False</td>\n",
       "    </tr>\n",
       "    <tr>\n",
       "      <td>2</td>\n",
       "      <td>GCC: C++ coroutines - Initial implementation p...</td>\n",
       "      <td>33</td>\n",
       "      <td>https://reddit.com/r/programming/comments/eqtx...</td>\n",
       "      <td>False</td>\n",
       "    </tr>\n",
       "    <tr>\n",
       "      <td>3</td>\n",
       "      <td>What's New in Java 19: The end of Kotlin?</td>\n",
       "      <td>687</td>\n",
       "      <td>https://reddit.com/r/programming/comments/eqgf...</td>\n",
       "      <td>False</td>\n",
       "    </tr>\n",
       "    <tr>\n",
       "      <td>4</td>\n",
       "      <td>Algorithm for Drawing Trees</td>\n",
       "      <td>11</td>\n",
       "      <td>https://reddit.com/r/programming/comments/equq...</td>\n",
       "      <td>False</td>\n",
       "    </tr>\n",
       "  </tbody>\n",
       "</table>\n",
       "</div>"
      ],
      "text/plain": [
       "                                               title  score  \\\n",
       "0  Bring your monorepo down to size with Git spar...    231   \n",
       "1  No, dynamic type systems are not inherently mo...     26   \n",
       "2  GCC: C++ coroutines - Initial implementation p...     33   \n",
       "3          What's New in Java 19: The end of Kotlin?    687   \n",
       "4                        Algorithm for Drawing Trees     11   \n",
       "\n",
       "                                                 url   nsfw  \n",
       "0  https://reddit.com/r/programming/comments/eqqw...  False  \n",
       "1  https://reddit.com/r/programming/comments/eqv6...  False  \n",
       "2  https://reddit.com/r/programming/comments/eqtx...  False  \n",
       "3  https://reddit.com/r/programming/comments/eqgf...  False  \n",
       "4  https://reddit.com/r/programming/comments/equq...  False  "
      ]
     },
     "execution_count": 4,
     "metadata": {},
     "output_type": "execute_result"
    }
   ],
   "source": [
    "df_posts = pd.DataFrame(posts)\n",
    "df_posts.head()"
   ]
  },
  {
   "cell_type": "code",
   "execution_count": 5,
   "metadata": {},
   "outputs": [
    {
     "data": {
      "text/plain": [
       "(25, 4)"
      ]
     },
     "execution_count": 5,
     "metadata": {},
     "output_type": "execute_result"
    }
   ],
   "source": [
    "df_posts.shape"
   ]
  }
 ],
 "metadata": {
  "kernelspec": {
   "display_name": "Python 3",
   "language": "python",
   "name": "python3"
  },
  "language_info": {
   "codemirror_mode": {
    "name": "ipython",
    "version": 3
   },
   "file_extension": ".py",
   "mimetype": "text/x-python",
   "name": "python",
   "nbconvert_exporter": "python",
   "pygments_lexer": "ipython3",
   "version": "3.6.8"
  }
 },
 "nbformat": 4,
 "nbformat_minor": 2
}
